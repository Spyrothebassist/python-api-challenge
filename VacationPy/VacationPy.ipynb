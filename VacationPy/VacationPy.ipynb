{
 "cells": [
  {
   "cell_type": "markdown",
   "metadata": {},
   "source": [
    "# VacationPy\n",
    "----\n",
    "\n",
    "#### Note\n",
    "* Keep an eye on your API usage. Use https://developers.google.com/maps/reporting/gmp-reporting as reference for how to monitor your usage and billing.\n",
    "\n",
    "* Instructions have been included for each segment. You do not have to follow them exactly, but they are included to help you think through the steps."
   ]
  },
  {
   "cell_type": "code",
   "execution_count": 1,
   "metadata": {},
   "outputs": [],
   "source": [
    "# Dependencies and Setup\n",
    "import matplotlib as plt\n",
    "import pandas as pd\n",
    "import numpy as np\n",
    "import requests\n",
    "import gmaps\n",
    "import os\n",
    "\n",
    "# Import API key\n",
    "from Api_keys import api_key_GoogleMaps"
   ]
  },
  {
   "cell_type": "markdown",
   "metadata": {},
   "source": [
    "### Store Part I results into DataFrame\n",
    "* Load the csv exported in Part I to a DataFrame"
   ]
  },
  {
   "cell_type": "code",
   "execution_count": 19,
   "metadata": {},
   "outputs": [
    {
     "output_type": "execute_result",
     "data": {
      "text/plain": [
       "     Unnamed: 0                   City  Cloudiness Country        Date  \\\n",
       "0             0                 Torbay          90      CA  1612258469   \n",
       "1             1          Alta Floresta          42      BR  1612258470   \n",
       "2             2               Katsuura          40      JP  1612258423   \n",
       "3             3                    Vao         100      NC  1612258473   \n",
       "4             4     Comodoro Rivadavia           0      AR  1612258474   \n",
       "..          ...                    ...         ...     ...         ...   \n",
       "669         669                  Patti           0      IN  1612259298   \n",
       "670         670          Mountain Home          40      US  1612259337   \n",
       "671         671  Los Llanos de Aridane          75      ES  1612259338   \n",
       "672         672               La Rioja          20      ES  1612259340   \n",
       "673         673             Lahad Datu          98      MY  1612259323   \n",
       "\n",
       "     Humidity  Latitude  Longitude  Max Temp (C)  Wind Speed  \n",
       "0          86   47.6666   -52.7314         -2.78        3.60  \n",
       "1          97   -9.8756   -56.0861         21.23        0.92  \n",
       "2          43   35.1333   140.3000         11.00        8.75  \n",
       "3          85  -22.6667   167.4833         24.25       13.65  \n",
       "4          48  -45.8667   -67.5000         19.00        2.06  \n",
       "..        ...       ...        ...           ...         ...  \n",
       "669        49   31.2808    74.8572         22.00        3.09  \n",
       "670        60   43.1330  -115.6912          3.00        7.20  \n",
       "671        82   28.6585   -17.9182         18.00        3.60  \n",
       "672        63   42.2500    -2.5000         15.00        3.09  \n",
       "673        89    5.0268   118.3270         25.43        3.11  \n",
       "\n",
       "[674 rows x 10 columns]"
      ],
      "text/html": "<div>\n<style scoped>\n    .dataframe tbody tr th:only-of-type {\n        vertical-align: middle;\n    }\n\n    .dataframe tbody tr th {\n        vertical-align: top;\n    }\n\n    .dataframe thead th {\n        text-align: right;\n    }\n</style>\n<table border=\"1\" class=\"dataframe\">\n  <thead>\n    <tr style=\"text-align: right;\">\n      <th></th>\n      <th>Unnamed: 0</th>\n      <th>City</th>\n      <th>Cloudiness</th>\n      <th>Country</th>\n      <th>Date</th>\n      <th>Humidity</th>\n      <th>Latitude</th>\n      <th>Longitude</th>\n      <th>Max Temp (C)</th>\n      <th>Wind Speed</th>\n    </tr>\n  </thead>\n  <tbody>\n    <tr>\n      <th>0</th>\n      <td>0</td>\n      <td>Torbay</td>\n      <td>90</td>\n      <td>CA</td>\n      <td>1612258469</td>\n      <td>86</td>\n      <td>47.6666</td>\n      <td>-52.7314</td>\n      <td>-2.78</td>\n      <td>3.60</td>\n    </tr>\n    <tr>\n      <th>1</th>\n      <td>1</td>\n      <td>Alta Floresta</td>\n      <td>42</td>\n      <td>BR</td>\n      <td>1612258470</td>\n      <td>97</td>\n      <td>-9.8756</td>\n      <td>-56.0861</td>\n      <td>21.23</td>\n      <td>0.92</td>\n    </tr>\n    <tr>\n      <th>2</th>\n      <td>2</td>\n      <td>Katsuura</td>\n      <td>40</td>\n      <td>JP</td>\n      <td>1612258423</td>\n      <td>43</td>\n      <td>35.1333</td>\n      <td>140.3000</td>\n      <td>11.00</td>\n      <td>8.75</td>\n    </tr>\n    <tr>\n      <th>3</th>\n      <td>3</td>\n      <td>Vao</td>\n      <td>100</td>\n      <td>NC</td>\n      <td>1612258473</td>\n      <td>85</td>\n      <td>-22.6667</td>\n      <td>167.4833</td>\n      <td>24.25</td>\n      <td>13.65</td>\n    </tr>\n    <tr>\n      <th>4</th>\n      <td>4</td>\n      <td>Comodoro Rivadavia</td>\n      <td>0</td>\n      <td>AR</td>\n      <td>1612258474</td>\n      <td>48</td>\n      <td>-45.8667</td>\n      <td>-67.5000</td>\n      <td>19.00</td>\n      <td>2.06</td>\n    </tr>\n    <tr>\n      <th>...</th>\n      <td>...</td>\n      <td>...</td>\n      <td>...</td>\n      <td>...</td>\n      <td>...</td>\n      <td>...</td>\n      <td>...</td>\n      <td>...</td>\n      <td>...</td>\n      <td>...</td>\n    </tr>\n    <tr>\n      <th>669</th>\n      <td>669</td>\n      <td>Patti</td>\n      <td>0</td>\n      <td>IN</td>\n      <td>1612259298</td>\n      <td>49</td>\n      <td>31.2808</td>\n      <td>74.8572</td>\n      <td>22.00</td>\n      <td>3.09</td>\n    </tr>\n    <tr>\n      <th>670</th>\n      <td>670</td>\n      <td>Mountain Home</td>\n      <td>40</td>\n      <td>US</td>\n      <td>1612259337</td>\n      <td>60</td>\n      <td>43.1330</td>\n      <td>-115.6912</td>\n      <td>3.00</td>\n      <td>7.20</td>\n    </tr>\n    <tr>\n      <th>671</th>\n      <td>671</td>\n      <td>Los Llanos de Aridane</td>\n      <td>75</td>\n      <td>ES</td>\n      <td>1612259338</td>\n      <td>82</td>\n      <td>28.6585</td>\n      <td>-17.9182</td>\n      <td>18.00</td>\n      <td>3.60</td>\n    </tr>\n    <tr>\n      <th>672</th>\n      <td>672</td>\n      <td>La Rioja</td>\n      <td>20</td>\n      <td>ES</td>\n      <td>1612259340</td>\n      <td>63</td>\n      <td>42.2500</td>\n      <td>-2.5000</td>\n      <td>15.00</td>\n      <td>3.09</td>\n    </tr>\n    <tr>\n      <th>673</th>\n      <td>673</td>\n      <td>Lahad Datu</td>\n      <td>98</td>\n      <td>MY</td>\n      <td>1612259323</td>\n      <td>89</td>\n      <td>5.0268</td>\n      <td>118.3270</td>\n      <td>25.43</td>\n      <td>3.11</td>\n    </tr>\n  </tbody>\n</table>\n<p>674 rows × 10 columns</p>\n</div>"
     },
     "metadata": {},
     "execution_count": 19
    }
   ],
   "source": [
    "data_path = \"Output/WeatherPyOutput.csv\"\n",
    "\n",
    "main_data_df = pd.read_csv(data_path)\n",
    "\n",
    "main_data_df"
   ]
  },
  {
   "cell_type": "markdown",
   "metadata": {},
   "source": [
    "### Humidity Heatmap\n",
    "* Configure gmaps.\n",
    "* Use the Lat and Lng as locations and Humidity as the weight.\n",
    "* Add Heatmap layer to map."
   ]
  },
  {
   "cell_type": "code",
   "execution_count": 25,
   "metadata": {},
   "outputs": [
    {
     "output_type": "display_data",
     "data": {
      "text/plain": "Figure(layout=FigureLayout(height='420px'))",
      "application/vnd.jupyter.widget-view+json": {
       "version_major": 2,
       "version_minor": 0,
       "model_id": "275652354dca401aa07f9e0ebdfd7370"
      }
     },
     "metadata": {}
    }
   ],
   "source": [
    "gmaps.configure(api_key=api_key_GoogleMaps)\n",
    "\n",
    "cities_coords_df = main_data_df[[\"Latitude\", \"Longitude\"]]\n",
    "humidity_df = main_data_df['Humidity'].astype(float)\n",
    "\n",
    "fig = gmaps.figure()\n",
    "\n",
    "heat_layer = gmaps.heatmap_layer(cities_coords_df, weights=humidity_df, \n",
    "                                 dissipating=False, max_intensity=max(main_data_df[\"Humidity\"]),\n",
    "                                 point_radius=1)\n",
    "\n",
    "fig.add_layer(heat_layer)\n",
    "\n",
    "fig"
   ]
  },
  {
   "cell_type": "markdown",
   "metadata": {},
   "source": [
    "### Create new DataFrame fitting weather criteria\n",
    "* Narrow down the cities to fit weather conditions.\n",
    "* Drop any rows will null values."
   ]
  },
  {
   "cell_type": "code",
   "execution_count": 70,
   "metadata": {},
   "outputs": [
    {
     "output_type": "execute_result",
     "data": {
      "text/plain": [
       "               City  Cloudiness Country        Date  Humidity  Latitude  \\\n",
       "97      Grand Gaube           8      MU  1612258586        69  -20.0064   \n",
       "109  Cap Malheureux           6      MU  1612258600        69  -19.9842   \n",
       "460   Cockburn Town           5      TC  1612259062        75   21.4612   \n",
       "\n",
       "     Longitude  Max Temp (C)  Wind Speed  \n",
       "97     57.6608         29.44        5.36  \n",
       "109    57.6142         29.44        5.36  \n",
       "460   -71.1419         25.57        6.35  "
      ],
      "text/html": "<div>\n<style scoped>\n    .dataframe tbody tr th:only-of-type {\n        vertical-align: middle;\n    }\n\n    .dataframe tbody tr th {\n        vertical-align: top;\n    }\n\n    .dataframe thead th {\n        text-align: right;\n    }\n</style>\n<table border=\"1\" class=\"dataframe\">\n  <thead>\n    <tr style=\"text-align: right;\">\n      <th></th>\n      <th>City</th>\n      <th>Cloudiness</th>\n      <th>Country</th>\n      <th>Date</th>\n      <th>Humidity</th>\n      <th>Latitude</th>\n      <th>Longitude</th>\n      <th>Max Temp (C)</th>\n      <th>Wind Speed</th>\n    </tr>\n  </thead>\n  <tbody>\n    <tr>\n      <th>97</th>\n      <td>Grand Gaube</td>\n      <td>8</td>\n      <td>MU</td>\n      <td>1612258586</td>\n      <td>69</td>\n      <td>-20.0064</td>\n      <td>57.6608</td>\n      <td>29.44</td>\n      <td>5.36</td>\n    </tr>\n    <tr>\n      <th>109</th>\n      <td>Cap Malheureux</td>\n      <td>6</td>\n      <td>MU</td>\n      <td>1612258600</td>\n      <td>69</td>\n      <td>-19.9842</td>\n      <td>57.6142</td>\n      <td>29.44</td>\n      <td>5.36</td>\n    </tr>\n    <tr>\n      <th>460</th>\n      <td>Cockburn Town</td>\n      <td>5</td>\n      <td>TC</td>\n      <td>1612259062</td>\n      <td>75</td>\n      <td>21.4612</td>\n      <td>-71.1419</td>\n      <td>25.57</td>\n      <td>6.35</td>\n    </tr>\n  </tbody>\n</table>\n</div>"
     },
     "metadata": {},
     "execution_count": 70
    }
   ],
   "source": [
    "weather_fit_df = main_data_df.copy()\n",
    "\n",
    "weather_fit_df = weather_fit_df.loc[(weather_fit_df[\"Max Temp (C)\"] < 40) & (weather_fit_df[\"Max Temp (C)\"] > 25)]\n",
    "weather_fit_df = weather_fit_df.loc[(weather_fit_df[\"Wind Speed\"] < 10) & (weather_fit_df[\"Wind Speed\"] > 5)]\n",
    "weather_fit_df = weather_fit_df.loc[(weather_fit_df[\"Cloudiness\"] < 10) & (weather_fit_df[\"Cloudiness\"] > 3)]\n",
    "\n",
    "weather_fit_clean_df = weather_fit_df.drop(columns=\"Unnamed: 0\")\n",
    "\n",
    "weather_fit_clean_df"
   ]
  },
  {
   "cell_type": "markdown",
   "metadata": {},
   "source": [
    "### Hotel Map\n",
    "* Store into variable named `hotel_df`.\n",
    "* Add a \"Hotel Name\" column to the DataFrame.\n",
    "* Set parameters to search for hotels with 5000 meters.\n",
    "* Hit the Google Places API for each city's coordinates.\n",
    "* Store the first Hotel result into the DataFrame.\n",
    "* Plot markers on top of the heatmap."
   ]
  },
  {
   "cell_type": "code",
   "execution_count": 86,
   "metadata": {},
   "outputs": [
    {
     "output_type": "stream",
     "name": "stdout",
     "text": [
      "Getting output for Index 97: Grand Gaube.\n",
      "The closest hotel is Veranda Paul et Virginie Hotel & Spa.\n",
      "Getting output for Index 109: Cap Malheureux.\n",
      "The closest hotel is Pereybere Hotel & Spa.\n",
      "Getting output for Index 460: Cockburn Town.\n",
      "The closest hotel is Osprey Beach Hotel.\n"
     ]
    }
   ],
   "source": [
    "hotel_df = weather_fit_clean_df\n",
    "\n",
    "url = \"https://maps.googleapis.com/maps/api/place/nearbysearch/json\"\n",
    "\n",
    "parameters = {\n",
    "    \"radius\": 5000,\n",
    "    \"types\": \"lodging\",\n",
    "    \"key\": api_key_GoogleMaps\n",
    "}\n",
    "\n",
    "for index, row in hotel_df.iterrows():\n",
    "    latitude = row[\"Latitude\"]\n",
    "    longitude = row[\"Longitude\"]\n",
    "    city = row[\"City\"]\n",
    "\n",
    "\n",
    "    parameters[\"location\"] = f\"{latitude},{longitude}\"  \n",
    "    \n",
    "    print(f\"Getting output for Index {index}: {city}.\")\n",
    "    response = requests.get(url, params=parameters).json()\n",
    "    \n",
    "    results = response['results']\n",
    "    name = results[0][\"name\"]\n",
    "\n",
    "    try:\n",
    "        print(f\"The closest hotel is {name}.\")\n",
    "        hotel_df.loc[index, \"Hotel Name\"] = name\n",
    "        \n",
    "    except:\n",
    "        print(\"City not found. Processing next record.\")"
   ]
  },
  {
   "cell_type": "code",
   "execution_count": 87,
   "metadata": {},
   "outputs": [
    {
     "output_type": "execute_result",
     "data": {
      "text/plain": [
       "               City  Cloudiness Country        Date  Humidity  Latitude  \\\n",
       "97      Grand Gaube           8      MU  1612258586        69  -20.0064   \n",
       "109  Cap Malheureux           6      MU  1612258600        69  -19.9842   \n",
       "460   Cockburn Town           5      TC  1612259062        75   21.4612   \n",
       "\n",
       "     Longitude  Max Temp (C)  Wind Speed                            Hotel Name  \n",
       "97     57.6608         29.44        5.36  Veranda Paul et Virginie Hotel & Spa  \n",
       "109    57.6142         29.44        5.36                 Pereybere Hotel & Spa  \n",
       "460   -71.1419         25.57        6.35                    Osprey Beach Hotel  "
      ],
      "text/html": "<div>\n<style scoped>\n    .dataframe tbody tr th:only-of-type {\n        vertical-align: middle;\n    }\n\n    .dataframe tbody tr th {\n        vertical-align: top;\n    }\n\n    .dataframe thead th {\n        text-align: right;\n    }\n</style>\n<table border=\"1\" class=\"dataframe\">\n  <thead>\n    <tr style=\"text-align: right;\">\n      <th></th>\n      <th>City</th>\n      <th>Cloudiness</th>\n      <th>Country</th>\n      <th>Date</th>\n      <th>Humidity</th>\n      <th>Latitude</th>\n      <th>Longitude</th>\n      <th>Max Temp (C)</th>\n      <th>Wind Speed</th>\n      <th>Hotel Name</th>\n    </tr>\n  </thead>\n  <tbody>\n    <tr>\n      <th>97</th>\n      <td>Grand Gaube</td>\n      <td>8</td>\n      <td>MU</td>\n      <td>1612258586</td>\n      <td>69</td>\n      <td>-20.0064</td>\n      <td>57.6608</td>\n      <td>29.44</td>\n      <td>5.36</td>\n      <td>Veranda Paul et Virginie Hotel &amp; Spa</td>\n    </tr>\n    <tr>\n      <th>109</th>\n      <td>Cap Malheureux</td>\n      <td>6</td>\n      <td>MU</td>\n      <td>1612258600</td>\n      <td>69</td>\n      <td>-19.9842</td>\n      <td>57.6142</td>\n      <td>29.44</td>\n      <td>5.36</td>\n      <td>Pereybere Hotel &amp; Spa</td>\n    </tr>\n    <tr>\n      <th>460</th>\n      <td>Cockburn Town</td>\n      <td>5</td>\n      <td>TC</td>\n      <td>1612259062</td>\n      <td>75</td>\n      <td>21.4612</td>\n      <td>-71.1419</td>\n      <td>25.57</td>\n      <td>6.35</td>\n      <td>Osprey Beach Hotel</td>\n    </tr>\n  </tbody>\n</table>\n</div>"
     },
     "metadata": {},
     "execution_count": 87
    }
   ],
   "source": [
    "hotel_df"
   ]
  },
  {
   "cell_type": "code",
   "execution_count": 88,
   "metadata": {},
   "outputs": [],
   "source": [
    "# NOTE: Do not change any of the code in this cell\n",
    "\n",
    "# Using the template add the hotel marks to the heatmap\n",
    "info_box_template = \"\"\"\n",
    "<dl>\n",
    "<dt>Name</dt><dd>{Hotel Name}</dd>\n",
    "<dt>City</dt><dd>{City}</dd>\n",
    "<dt>Country</dt><dd>{Country}</dd>\n",
    "</dl>\n",
    "\"\"\"\n",
    "# Store the DataFrame Row\n",
    "# NOTE: be sure to update with your DataFrame name\n",
    "hotel_info = [info_box_template.format(**row) for index, row in hotel_df.iterrows()]\n",
    "locations = hotel_df[[\"Latitude\", \"Longitude\"]]"
   ]
  },
  {
   "cell_type": "code",
   "execution_count": 96,
   "metadata": {},
   "outputs": [
    {
     "output_type": "display_data",
     "data": {
      "text/plain": "Figure(layout=FigureLayout(height='420px'))",
      "application/vnd.jupyter.widget-view+json": {
       "version_major": 2,
       "version_minor": 0,
       "model_id": "275652354dca401aa07f9e0ebdfd7370"
      }
     },
     "metadata": {}
    }
   ],
   "source": [
    "# Add marker layer ontop of heat map\n",
    "markers = gmaps.marker_layer(locations)\n",
    "\n",
    "hotel_layer = gmaps.symbol_layer(\n",
    "    locations, fill_color='rgba(0, 150, 0, 0.4)',\n",
    "    stroke_color='rgba(0, 0, 150, 0.4)', scale=2,\n",
    "    info_box_content=hotel_info)\n",
    "\n",
    "# Display figure\n",
    "fig.add_layer(markers)\n",
    "fig.add_layer(hotel_layer)\n",
    "fig"
   ]
  },
  {
   "cell_type": "code",
   "execution_count": null,
   "metadata": {},
   "outputs": [],
   "source": []
  }
 ],
 "metadata": {
  "kernelspec": {
   "name": "python3",
   "display_name": "Python 3.8.5 64-bit (conda)",
   "metadata": {
    "interpreter": {
     "hash": "42a5aeadb626e9fab306cc11d7880aebf2727abe172c58f891e2dedde345f7e9"
    }
   }
  },
  "language_info": {
   "codemirror_mode": {
    "name": "ipython",
    "version": 3
   },
   "file_extension": ".py",
   "mimetype": "text/x-python",
   "name": "python",
   "nbconvert_exporter": "python",
   "pygments_lexer": "ipython3",
   "version": "3.8.5-final"
  },
  "latex_envs": {
   "LaTeX_envs_menu_present": true,
   "autoclose": false,
   "autocomplete": true,
   "bibliofile": "biblio.bib",
   "cite_by": "apalike",
   "current_citInitial": 1,
   "eqLabelWithNumbers": true,
   "eqNumInitial": 1,
   "hotkeys": {
    "equation": "Ctrl-E",
    "itemize": "Ctrl-I"
   },
   "labels_anchors": false,
   "latex_user_defs": false,
   "report_style_numbering": false,
   "user_envs_cfg": false
  }
 },
 "nbformat": 4,
 "nbformat_minor": 4
}